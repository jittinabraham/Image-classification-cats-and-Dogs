{
  "nbformat": 4,
  "nbformat_minor": 0,
  "metadata": {
    "colab": {
      "provenance": [],
      "gpuType": "T4",
      "authorship_tag": "ABX9TyNKnnX+X2RPagzqWx0BOHU9",
      "include_colab_link": true
    },
    "kernelspec": {
      "name": "python3",
      "display_name": "Python 3"
    },
    "language_info": {
      "name": "python"
    },
    "accelerator": "GPU"
  },
  "cells": [
    {
      "cell_type": "markdown",
      "metadata": {
        "id": "view-in-github",
        "colab_type": "text"
      },
      "source": [
        "<a href=\"https://colab.research.google.com/github/jittinabraham/Image-classification-cats-and-Dogs/blob/main/cats%26Dogs.ipynb\" target=\"_parent\"><img src=\"https://colab.research.google.com/assets/colab-badge.svg\" alt=\"Open In Colab\"/></a>"
      ]
    },
    {
      "cell_type": "code",
      "execution_count": 1,
      "metadata": {
        "id": "jGjtSN1tn2w7",
        "colab": {
          "base_uri": "https://localhost:8080/"
        },
        "outputId": "0f8395e0-42f3-48a4-b7c2-8a5d73c9add8"
      },
      "outputs": [
        {
          "output_type": "stream",
          "name": "stdout",
          "text": [
            "Mounted at /content/gdrive\n"
          ]
        }
      ],
      "source": [
        "import tensorflow as tf\n",
        "from tensorflow.keras import Model\n",
        "import tensorflow_datasets as tfds\n",
        "from tensorflow.keras.layers import Dense, Flatten, Conv2D\n",
        "from tensorflow import keras\n",
        "from tensorflow.keras import Model\n",
        "# setting up google drive\n",
        "import platform\n",
        "import matplotlib.pyplot as plt\n",
        "from google.colab import drive\n",
        "drive.mount('/content/gdrive')\n",
        "# set the correct root dir (precreate on google drive)\n",
        "root_dir = 'gdrive/MyDrive/cats&Dogs/set_small/'\n"
      ]
    },
    {
      "cell_type": "code",
      "source": [
        "\n",
        "\n",
        "conv_base = keras.applications.VGG16(\n",
        "    weights='imagenet',  # Load weights pre-trained on ImageNet.\n",
        "    input_shape=(150, 150, 3),\n",
        "    include_top=False  # Do not include the ImageNet classifier at the top.\n",
        ")\n",
        "\n",
        "# Print structure in console\n",
        "conv_base.summary()\n"
      ],
      "metadata": {
        "colab": {
          "base_uri": "https://localhost:8080/"
        },
        "id": "56aKbHV3vby3",
        "outputId": "46ae0571-7545-4352-81a2-8c83c93fbf2e"
      },
      "execution_count": 2,
      "outputs": [
        {
          "output_type": "stream",
          "name": "stdout",
          "text": [
            "Downloading data from https://storage.googleapis.com/tensorflow/keras-applications/vgg16/vgg16_weights_tf_dim_ordering_tf_kernels_notop.h5\n",
            "58889256/58889256 [==============================] - 0s 0us/step\n",
            "Model: \"vgg16\"\n",
            "_________________________________________________________________\n",
            " Layer (type)                Output Shape              Param #   \n",
            "=================================================================\n",
            " input_1 (InputLayer)        [(None, 150, 150, 3)]     0         \n",
            "                                                                 \n",
            " block1_conv1 (Conv2D)       (None, 150, 150, 64)      1792      \n",
            "                                                                 \n",
            " block1_conv2 (Conv2D)       (None, 150, 150, 64)      36928     \n",
            "                                                                 \n",
            " block1_pool (MaxPooling2D)  (None, 75, 75, 64)        0         \n",
            "                                                                 \n",
            " block2_conv1 (Conv2D)       (None, 75, 75, 128)       73856     \n",
            "                                                                 \n",
            " block2_conv2 (Conv2D)       (None, 75, 75, 128)       147584    \n",
            "                                                                 \n",
            " block2_pool (MaxPooling2D)  (None, 37, 37, 128)       0         \n",
            "                                                                 \n",
            " block3_conv1 (Conv2D)       (None, 37, 37, 256)       295168    \n",
            "                                                                 \n",
            " block3_conv2 (Conv2D)       (None, 37, 37, 256)       590080    \n",
            "                                                                 \n",
            " block3_conv3 (Conv2D)       (None, 37, 37, 256)       590080    \n",
            "                                                                 \n",
            " block3_pool (MaxPooling2D)  (None, 18, 18, 256)       0         \n",
            "                                                                 \n",
            " block4_conv1 (Conv2D)       (None, 18, 18, 512)       1180160   \n",
            "                                                                 \n",
            " block4_conv2 (Conv2D)       (None, 18, 18, 512)       2359808   \n",
            "                                                                 \n",
            " block4_conv3 (Conv2D)       (None, 18, 18, 512)       2359808   \n",
            "                                                                 \n",
            " block4_pool (MaxPooling2D)  (None, 9, 9, 512)         0         \n",
            "                                                                 \n",
            " block5_conv1 (Conv2D)       (None, 9, 9, 512)         2359808   \n",
            "                                                                 \n",
            " block5_conv2 (Conv2D)       (None, 9, 9, 512)         2359808   \n",
            "                                                                 \n",
            " block5_conv3 (Conv2D)       (None, 9, 9, 512)         2359808   \n",
            "                                                                 \n",
            " block5_pool (MaxPooling2D)  (None, 4, 4, 512)         0         \n",
            "                                                                 \n",
            "=================================================================\n",
            "Total params: 14,714,688\n",
            "Trainable params: 14,714,688\n",
            "Non-trainable params: 0\n",
            "_________________________________________________________________\n"
          ]
        }
      ]
    },
    {
      "cell_type": "code",
      "source": [
        "from tensorflow.keras import models\n",
        "from tensorflow.keras import layers\n",
        "model = models.Sequential()\n",
        "model.add(conv_base)\n",
        "model.add(layers.Flatten())\n",
        "model.add(layers.Dense(256, activation='relu'))\n",
        "model.add(layers.Dense(1, activation='sigmoid'))\n",
        "model.summary()"
      ],
      "metadata": {
        "colab": {
          "base_uri": "https://localhost:8080/"
        },
        "id": "VEw_ecz5wDZp",
        "outputId": "1448dba3-cad6-4a86-89de-1e8dc4683b07"
      },
      "execution_count": 3,
      "outputs": [
        {
          "output_type": "stream",
          "name": "stdout",
          "text": [
            "Model: \"sequential\"\n",
            "_________________________________________________________________\n",
            " Layer (type)                Output Shape              Param #   \n",
            "=================================================================\n",
            " vgg16 (Functional)          (None, 4, 4, 512)         14714688  \n",
            "                                                                 \n",
            " flatten (Flatten)           (None, 8192)              0         \n",
            "                                                                 \n",
            " dense (Dense)               (None, 256)               2097408   \n",
            "                                                                 \n",
            " dense_1 (Dense)             (None, 1)                 257       \n",
            "                                                                 \n",
            "=================================================================\n",
            "Total params: 16,812,353\n",
            "Trainable params: 16,812,353\n",
            "Non-trainable params: 0\n",
            "_________________________________________________________________\n"
          ]
        }
      ]
    },
    {
      "cell_type": "code",
      "source": [
        "print('This is the number of trainable weights '\n",
        "'before freezing the conv base:',)\n",
        "model.summary()"
      ],
      "metadata": {
        "colab": {
          "base_uri": "https://localhost:8080/"
        },
        "id": "cjRTN30-xbw-",
        "outputId": "6e5d0945-95d4-495e-d862-73f32c4f5367"
      },
      "execution_count": 4,
      "outputs": [
        {
          "output_type": "stream",
          "name": "stdout",
          "text": [
            "This is the number of trainable weights before freezing the conv base:\n",
            "Model: \"sequential\"\n",
            "_________________________________________________________________\n",
            " Layer (type)                Output Shape              Param #   \n",
            "=================================================================\n",
            " vgg16 (Functional)          (None, 4, 4, 512)         14714688  \n",
            "                                                                 \n",
            " flatten (Flatten)           (None, 8192)              0         \n",
            "                                                                 \n",
            " dense (Dense)               (None, 256)               2097408   \n",
            "                                                                 \n",
            " dense_1 (Dense)             (None, 1)                 257       \n",
            "                                                                 \n",
            "=================================================================\n",
            "Total params: 16,812,353\n",
            "Trainable params: 16,812,353\n",
            "Non-trainable params: 0\n",
            "_________________________________________________________________\n"
          ]
        }
      ]
    },
    {
      "cell_type": "code",
      "source": [
        "# Freeze the conv base: set switch to freeze\n",
        "conv_base.trainable = False\n",
        "# Output to compare\n",
        "print('This is the number of trainable weights '\n",
        "'after freezing the conv base:')\n",
        "model.summary()\n"
      ],
      "metadata": {
        "colab": {
          "base_uri": "https://localhost:8080/"
        },
        "id": "IQSYRZTdxrT9",
        "outputId": "7dbac679-c7cd-45a7-8210-9b23ba868a72"
      },
      "execution_count": 5,
      "outputs": [
        {
          "output_type": "stream",
          "name": "stdout",
          "text": [
            "This is the number of trainable weights after freezing the conv base:\n",
            "Model: \"sequential\"\n",
            "_________________________________________________________________\n",
            " Layer (type)                Output Shape              Param #   \n",
            "=================================================================\n",
            " vgg16 (Functional)          (None, 4, 4, 512)         14714688  \n",
            "                                                                 \n",
            " flatten (Flatten)           (None, 8192)              0         \n",
            "                                                                 \n",
            " dense (Dense)               (None, 256)               2097408   \n",
            "                                                                 \n",
            " dense_1 (Dense)             (None, 1)                 257       \n",
            "                                                                 \n",
            "=================================================================\n",
            "Total params: 16,812,353\n",
            "Trainable params: 2,097,665\n",
            "Non-trainable params: 14,714,688\n",
            "_________________________________________________________________\n"
          ]
        }
      ]
    },
    {
      "cell_type": "code",
      "source": [
        "# load modules needed\n",
        "from tensorflow.keras.preprocessing.image import ImageDataGenerator\n",
        "from tensorflow.keras import optimizers\n",
        "import os\n",
        "import numpy as np\n",
        "from tensorflow.keras.preprocessing.image import ImageDataGenerator\n",
        "# set directories for training, validation and test set, here google ...\n",
        "drive\n",
        "base_dir = 'gdrive/MyDrive/cats&Dogs/set_small/'\n",
        "\n",
        "train_dir = os.path.join(base_dir, 'train')\n",
        "validation_dir = os.path.join(base_dir, 'validation')\n",
        "test_dir = os.path.join(base_dir, 'test')\n",
        "# Set up constructor for data augmentation\n",
        "train_datagen = ImageDataGenerator(\n",
        "rescale=1./255,\n",
        "rotation_range=40,\n",
        "width_shift_range=0.2,\n",
        "height_shift_range=0.2,\n",
        "shear_range=0.2,\n",
        "zoom_range=0.2,\n",
        "horizontal_flip=True,\n",
        "fill_mode='nearest')\n",
        "# Test set only normalized, not augmented\n",
        "test_datagen = ImageDataGenerator(rescale=1./255)\n",
        "# Collect the images and do the augmentation, labels are set to binary\n",
        "# augment training data\n",
        "train_generator = train_datagen.flow_from_directory(\n",
        "train_dir,\n",
        "target_size=(150, 150),\n",
        "batch_size=20,\n",
        "class_mode='binary')\n",
        "# augment validation data\n",
        "validation_generator = test_datagen.flow_from_directory(\n",
        "validation_dir,\n",
        "target_size=(150, 150),\n",
        "batch_size=20,\n",
        "class_mode='binary')"
      ],
      "metadata": {
        "colab": {
          "base_uri": "https://localhost:8080/"
        },
        "id": "fl4k68aYxyQt",
        "outputId": "8cd5f15e-fc88-463e-80de-e4fbde8e6db2"
      },
      "execution_count": 6,
      "outputs": [
        {
          "output_type": "stream",
          "name": "stdout",
          "text": [
            "Found 2000 images belonging to 2 classes.\n",
            "Found 1000 images belonging to 2 classes.\n"
          ]
        }
      ]
    },
    {
      "cell_type": "code",
      "source": [
        "if TRANSFER:\n",
        "  print('Using Transfer learning...')\n",
        "  # parameters for model training\n",
        "  model.compile(loss='binary_crossentropy',\n",
        "  optimizer=optimizers.RMSprop(learning_rate=2e-5),\n",
        "  metrics=['acc'])\n",
        "  # do the training\n",
        "  history = model.fit(\n",
        "  train_generator,\n",
        "  # steps_per_epoch=100, # no longer needed\n",
        "  epochs=30,\n",
        "  validation_data=validation_generator,\n",
        "  validation_steps=50) # could be taken out to improve speed\n",
        "elif FINETUNE:\n",
        "  print('Finetuning the model...')\n",
        "  # set the parameters, here only freeze blocks 1 to 4\n",
        "  # The loop freezes all layers UP TO a specific one\n",
        "  conv_base.trainable = True\n",
        "  set_trainable = False\n",
        "for layer in conv_base.layers:\n",
        "  # Replace according to your architecture...\n",
        "  if layer.name == 'block5_conv1':\n",
        "    # (e.g. DenseNet169: 'conv5_block26_1_conv')\n",
        "    set_trainable = True\n",
        "  if set_trainable:\n",
        "    layer.trainable = True\n",
        "  else:\n",
        "    layer.trainable = False\n",
        "    # compile the model with given parameters\n",
        "    model.compile(loss='binary_crossentropy',\n",
        "    optimizer=optimizers.RMSprop(learning_rate=1e-5),\n",
        "    metrics=['acc'])\n",
        "    # Fine tune the model and start training\n",
        "    history = model.fit(\n",
        "    train_generator,\n",
        "    # steps_per_epoch=100, # no longer needed\n",
        "    epochs=30,\n",
        "    validation_data=validation_generator,\n",
        "    validation_steps=50)\n",
        "    # Fallback if something wents wrong\n",
        "else:\n",
        "  print('No freeze model, no other model')\n",
        "  # save the trained model\n",
        "  save_dir = os.path.join(root_dir, 'cats_dogs_net.h5')\n",
        "  model.save(save_dir)"
      ],
      "metadata": {
        "id": "SOu1OA16yLV5",
        "outputId": "933e03da-0381-49cc-f09d-608d8465ad27",
        "colab": {
          "base_uri": "https://localhost:8080/",
          "height": 1000
        }
      },
      "execution_count": 21,
      "outputs": [
        {
          "output_type": "stream",
          "name": "stdout",
          "text": [
            "Using Transfer learning...\n",
            "Epoch 1/30\n",
            "100/100 [==============================] - 28s 269ms/step - loss: 0.2844 - acc: 0.8775 - val_loss: 0.2422 - val_acc: 0.9080\n",
            "Epoch 2/30\n",
            "100/100 [==============================] - 27s 271ms/step - loss: 0.2733 - acc: 0.8855 - val_loss: 0.2449 - val_acc: 0.8970\n",
            "Epoch 3/30\n",
            "100/100 [==============================] - 29s 288ms/step - loss: 0.2779 - acc: 0.8780 - val_loss: 0.2645 - val_acc: 0.8830\n",
            "Epoch 4/30\n",
            "100/100 [==============================] - 27s 270ms/step - loss: 0.2721 - acc: 0.8850 - val_loss: 0.2434 - val_acc: 0.9020\n",
            "Epoch 5/30\n",
            "100/100 [==============================] - 27s 268ms/step - loss: 0.2831 - acc: 0.8810 - val_loss: 0.2456 - val_acc: 0.9020\n",
            "Epoch 6/30\n",
            "100/100 [==============================] - 26s 265ms/step - loss: 0.2705 - acc: 0.8810 - val_loss: 0.2396 - val_acc: 0.9000\n",
            "Epoch 7/30\n",
            "100/100 [==============================] - 26s 262ms/step - loss: 0.2658 - acc: 0.8885 - val_loss: 0.2398 - val_acc: 0.9100\n",
            "Epoch 8/30\n",
            "100/100 [==============================] - 26s 263ms/step - loss: 0.2772 - acc: 0.8790 - val_loss: 0.2416 - val_acc: 0.9020\n",
            "Epoch 9/30\n",
            "100/100 [==============================] - 28s 283ms/step - loss: 0.2714 - acc: 0.8840 - val_loss: 0.2406 - val_acc: 0.8990\n",
            "Epoch 10/30\n",
            "100/100 [==============================] - 26s 260ms/step - loss: 0.2681 - acc: 0.8860 - val_loss: 0.2422 - val_acc: 0.8980\n",
            "Epoch 11/30\n",
            "100/100 [==============================] - 26s 263ms/step - loss: 0.2665 - acc: 0.8850 - val_loss: 0.2484 - val_acc: 0.8920\n",
            "Epoch 12/30\n",
            "100/100 [==============================] - 26s 259ms/step - loss: 0.2793 - acc: 0.8715 - val_loss: 0.2372 - val_acc: 0.9010\n",
            "Epoch 13/30\n",
            "100/100 [==============================] - 26s 263ms/step - loss: 0.2666 - acc: 0.8910 - val_loss: 0.2416 - val_acc: 0.9010\n",
            "Epoch 14/30\n",
            "100/100 [==============================] - 28s 276ms/step - loss: 0.2546 - acc: 0.8910 - val_loss: 0.2396 - val_acc: 0.9020\n",
            "Epoch 15/30\n",
            "100/100 [==============================] - 32s 316ms/step - loss: 0.2655 - acc: 0.8880 - val_loss: 0.2389 - val_acc: 0.9050\n",
            "Epoch 16/30\n",
            "100/100 [==============================] - 27s 266ms/step - loss: 0.2493 - acc: 0.8965 - val_loss: 0.2472 - val_acc: 0.8940\n",
            "Epoch 17/30\n",
            "100/100 [==============================] - 27s 274ms/step - loss: 0.2614 - acc: 0.8920 - val_loss: 0.2387 - val_acc: 0.9080\n",
            "Epoch 18/30\n",
            "100/100 [==============================] - 26s 261ms/step - loss: 0.2720 - acc: 0.8870 - val_loss: 0.2486 - val_acc: 0.8980\n",
            "Epoch 19/30\n",
            "100/100 [==============================] - 26s 262ms/step - loss: 0.2613 - acc: 0.8875 - val_loss: 0.2430 - val_acc: 0.8990\n",
            "Epoch 20/30\n",
            "100/100 [==============================] - 32s 323ms/step - loss: 0.2609 - acc: 0.8925 - val_loss: 0.2404 - val_acc: 0.8990\n",
            "Epoch 21/30\n",
            "100/100 [==============================] - 26s 265ms/step - loss: 0.2690 - acc: 0.8875 - val_loss: 0.2418 - val_acc: 0.9020\n",
            "Epoch 22/30\n",
            "100/100 [==============================] - 26s 260ms/step - loss: 0.2600 - acc: 0.8895 - val_loss: 0.2367 - val_acc: 0.9080\n",
            "Epoch 23/30\n",
            "100/100 [==============================] - 26s 261ms/step - loss: 0.2584 - acc: 0.8945 - val_loss: 0.2468 - val_acc: 0.8960\n",
            "Epoch 24/30\n",
            "100/100 [==============================] - 26s 260ms/step - loss: 0.2479 - acc: 0.9000 - val_loss: 0.2370 - val_acc: 0.9080\n",
            "Epoch 25/30\n",
            "100/100 [==============================] - 26s 265ms/step - loss: 0.2553 - acc: 0.8880 - val_loss: 0.2378 - val_acc: 0.9040\n",
            "Epoch 26/30\n",
            "100/100 [==============================] - 28s 276ms/step - loss: 0.2641 - acc: 0.8885 - val_loss: 0.2365 - val_acc: 0.9020\n",
            "Epoch 27/30\n",
            "100/100 [==============================] - 26s 257ms/step - loss: 0.2565 - acc: 0.8910 - val_loss: 0.2514 - val_acc: 0.8920\n",
            "Epoch 28/30\n",
            "100/100 [==============================] - 26s 262ms/step - loss: 0.2574 - acc: 0.8890 - val_loss: 0.2406 - val_acc: 0.9030\n",
            "Epoch 29/30\n",
            "100/100 [==============================] - 26s 260ms/step - loss: 0.2505 - acc: 0.8885 - val_loss: 0.2380 - val_acc: 0.9060\n",
            "Epoch 30/30\n",
            "100/100 [==============================] - 27s 271ms/step - loss: 0.2525 - acc: 0.8955 - val_loss: 0.2418 - val_acc: 0.8990\n"
          ]
        },
        {
          "output_type": "error",
          "ename": "NameError",
          "evalue": "ignored",
          "traceback": [
            "\u001b[0;31m---------------------------------------------------------------------------\u001b[0m",
            "\u001b[0;31mNameError\u001b[0m                                 Traceback (most recent call last)",
            "\u001b[0;32m<ipython-input-21-17fddb3a4d24>\u001b[0m in \u001b[0;36m<cell line: 20>\u001b[0;34m()\u001b[0m\n\u001b[1;32m     23\u001b[0m     \u001b[0;31m# (e.g. DenseNet169: 'conv5_block26_1_conv')\u001b[0m\u001b[0;34m\u001b[0m\u001b[0;34m\u001b[0m\u001b[0m\n\u001b[1;32m     24\u001b[0m     \u001b[0mset_trainable\u001b[0m \u001b[0;34m=\u001b[0m \u001b[0;32mTrue\u001b[0m\u001b[0;34m\u001b[0m\u001b[0;34m\u001b[0m\u001b[0m\n\u001b[0;32m---> 25\u001b[0;31m   \u001b[0;32mif\u001b[0m \u001b[0mset_trainable\u001b[0m\u001b[0;34m:\u001b[0m\u001b[0;34m\u001b[0m\u001b[0;34m\u001b[0m\u001b[0m\n\u001b[0m\u001b[1;32m     26\u001b[0m     \u001b[0mlayer\u001b[0m\u001b[0;34m.\u001b[0m\u001b[0mtrainable\u001b[0m \u001b[0;34m=\u001b[0m \u001b[0;32mTrue\u001b[0m\u001b[0;34m\u001b[0m\u001b[0;34m\u001b[0m\u001b[0m\n\u001b[1;32m     27\u001b[0m   \u001b[0;32melse\u001b[0m\u001b[0;34m:\u001b[0m\u001b[0;34m\u001b[0m\u001b[0;34m\u001b[0m\u001b[0m\n",
            "\u001b[0;31mNameError\u001b[0m: name 'set_trainable' is not defined"
          ]
        }
      ]
    },
    {
      "cell_type": "code",
      "source": [
        "# get the recorded data for training and validation looking at ...\n",
        "#accuracy and loss\n",
        "acc = history.history['acc']\n",
        "val_acc = history.history['val_acc']\n",
        "loss = history.history['loss']\n",
        "val_loss = history.history['val_loss']\n",
        "epochs = range(1, len(acc) + 1)\n",
        "# plot the curves\n",
        "plt.plot(epochs, acc, 'bo', label='Training acc')\n",
        "plt.plot(epochs, val_acc, 'b', label='Validation acc')\n",
        "plt.title('Training and validation accuracy')\n",
        "plt.legend()\n",
        "plt.figure()\n",
        "plt.plot(epochs, loss, 'bo', label='Training loss')\n",
        "plt.plot(epochs, val_loss, 'b', label='Validation loss')\n",
        "plt.title('Training and validation loss')\n",
        "plt.legend()\n",
        "plt.show()"
      ],
      "metadata": {
        "colab": {
          "base_uri": "https://localhost:8080/",
          "height": 887
        },
        "id": "djwYF36USkwA",
        "outputId": "10b9223c-99da-4301-f820-4d5fb651b33b"
      },
      "execution_count": 22,
      "outputs": [
        {
          "output_type": "display_data",
          "data": {
            "text/plain": [
              "<Figure size 640x480 with 1 Axes>"
            ],
            "image/png": "[encoded data removed]"
          },
          "metadata": {}
        },
        {
          "output_type": "display_data",
          "data": {
            "text/plain": [
              "<Figure size 640x480 with 1 Axes>"
            ],
            "image/png": "[encoded data removed]"
          },
          "metadata": {}
        }
      ]
    },
    {
      "cell_type": "code",
      "source": [
        "# test the accuraccy\n",
        "test_generator = test_datagen.flow_from_directory(\n",
        "test_dir,\n",
        "target_size=(150, 150),\n",
        "batch_size=20,\n",
        "class_mode='binary')\n",
        "# evaluate the test images with the model\n",
        "test_loss, test_acc = model.evaluate(test_generator, steps=50)\n",
        "# Output to console\n",
        "print('test acc:', test_acc)"
      ],
      "metadata": {
        "colab": {
          "base_uri": "https://localhost:8080/"
        },
        "id": "k2yRXAOZcFRl",
        "outputId": "fb2c62d1-f104-4215-ebb9-2c510a5ca944"
      },
      "execution_count": 23,
      "outputs": [
        {
          "output_type": "stream",
          "name": "stdout",
          "text": [
            "Found 1000 images belonging to 2 classes.\n",
            "50/50 [==============================] - 85s 2s/step - loss: 0.2397 - acc: 0.9030\n",
            "test acc: 0.902999997138977\n"
          ]
        }
      ]
    }
  ]
}